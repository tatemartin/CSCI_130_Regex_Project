{
  "cells": [
    {
      "cell_type": "markdown",
      "metadata": {
        "id": "view-in-github",
        "colab_type": "text"
      },
      "source": [
        "<a href=\"https://colab.research.google.com/github/tatemartin/CSCI_130_Regex_Project/blob/main/Copy_of_Analyzing_Movies.ipynb\" target=\"_parent\"><img src=\"https://colab.research.google.com/assets/colab-badge.svg\" alt=\"Open In Colab\"/></a>"
      ]
    },
    {
      "cell_type": "markdown",
      "metadata": {
        "id": "sy2bSTrykZDJ"
      },
      "source": [
        "# Fun With Movies\n",
        "\n",
        "The Internet Movie DataBase (imdb) has lots of great information we can use to practice pandas."
      ]
    },
    {
      "cell_type": "code",
      "execution_count": 1,
      "metadata": {
        "id": "GffNfaEykZDM"
      },
      "outputs": [],
      "source": [
        "import pandas as pd\n",
        "import matplotlib.pyplot as plt\n",
        "import re"
      ]
    },
    {
      "cell_type": "markdown",
      "metadata": {
        "id": "-2WDVs_NkZDO"
      },
      "source": [
        "### First, import imdb.txt into colab (use the folder symbol to the left)\n",
        "\n",
        "## Read in dataframe from .csv or .txt file"
      ]
    },
    {
      "cell_type": "code",
      "execution_count": 2,
      "metadata": {
        "id": "XaMRZtm8kZDP",
        "colab": {
          "base_uri": "https://localhost:8080/",
          "height": 206
        },
        "outputId": "5fe21dda-e913-45a0-ecb6-29819a400830"
      },
      "outputs": [
        {
          "output_type": "execute_result",
          "data": {
            "text/plain": [
              "   star_rating                     title content_rating   genre  duration  \\\n",
              "0          9.3  The Shawshank Redemption              R   Crime       142   \n",
              "1          9.2             The Godfather              R   Crime       175   \n",
              "2          9.1    The Godfather: Part II              R   Crime       200   \n",
              "3          9.0           The Dark Knight          PG-13  Action       152   \n",
              "4          8.9              Pulp Fiction              R   Crime       154   \n",
              "\n",
              "                                         actors_list  \n",
              "0  [u'Tim Robbins', u'Morgan Freeman', u'Bob Gunt...  \n",
              "1    [u'Marlon Brando', u'Al Pacino', u'James Caan']  \n",
              "2  [u'Al Pacino', u'Robert De Niro', u'Robert Duv...  \n",
              "3  [u'Christian Bale', u'Heath Ledger', u'Aaron E...  \n",
              "4  [u'John Travolta', u'Uma Thurman', u'Samuel L....  "
            ],
            "text/html": [
              "\n",
              "  <div id=\"df-b2c967b8-5461-4564-a041-9dce14f7ba9b\" class=\"colab-df-container\">\n",
              "    <div>\n",
              "<style scoped>\n",
              "    .dataframe tbody tr th:only-of-type {\n",
              "        vertical-align: middle;\n",
              "    }\n",
              "\n",
              "    .dataframe tbody tr th {\n",
              "        vertical-align: top;\n",
              "    }\n",
              "\n",
              "    .dataframe thead th {\n",
              "        text-align: right;\n",
              "    }\n",
              "</style>\n",
              "<table border=\"1\" class=\"dataframe\">\n",
              "  <thead>\n",
              "    <tr style=\"text-align: right;\">\n",
              "      <th></th>\n",
              "      <th>star_rating</th>\n",
              "      <th>title</th>\n",
              "      <th>content_rating</th>\n",
              "      <th>genre</th>\n",
              "      <th>duration</th>\n",
              "      <th>actors_list</th>\n",
              "    </tr>\n",
              "  </thead>\n",
              "  <tbody>\n",
              "    <tr>\n",
              "      <th>0</th>\n",
              "      <td>9.3</td>\n",
              "      <td>The Shawshank Redemption</td>\n",
              "      <td>R</td>\n",
              "      <td>Crime</td>\n",
              "      <td>142</td>\n",
              "      <td>[u'Tim Robbins', u'Morgan Freeman', u'Bob Gunt...</td>\n",
              "    </tr>\n",
              "    <tr>\n",
              "      <th>1</th>\n",
              "      <td>9.2</td>\n",
              "      <td>The Godfather</td>\n",
              "      <td>R</td>\n",
              "      <td>Crime</td>\n",
              "      <td>175</td>\n",
              "      <td>[u'Marlon Brando', u'Al Pacino', u'James Caan']</td>\n",
              "    </tr>\n",
              "    <tr>\n",
              "      <th>2</th>\n",
              "      <td>9.1</td>\n",
              "      <td>The Godfather: Part II</td>\n",
              "      <td>R</td>\n",
              "      <td>Crime</td>\n",
              "      <td>200</td>\n",
              "      <td>[u'Al Pacino', u'Robert De Niro', u'Robert Duv...</td>\n",
              "    </tr>\n",
              "    <tr>\n",
              "      <th>3</th>\n",
              "      <td>9.0</td>\n",
              "      <td>The Dark Knight</td>\n",
              "      <td>PG-13</td>\n",
              "      <td>Action</td>\n",
              "      <td>152</td>\n",
              "      <td>[u'Christian Bale', u'Heath Ledger', u'Aaron E...</td>\n",
              "    </tr>\n",
              "    <tr>\n",
              "      <th>4</th>\n",
              "      <td>8.9</td>\n",
              "      <td>Pulp Fiction</td>\n",
              "      <td>R</td>\n",
              "      <td>Crime</td>\n",
              "      <td>154</td>\n",
              "      <td>[u'John Travolta', u'Uma Thurman', u'Samuel L....</td>\n",
              "    </tr>\n",
              "  </tbody>\n",
              "</table>\n",
              "</div>\n",
              "    <div class=\"colab-df-buttons\">\n",
              "\n",
              "  <div class=\"colab-df-container\">\n",
              "    <button class=\"colab-df-convert\" onclick=\"convertToInteractive('df-b2c967b8-5461-4564-a041-9dce14f7ba9b')\"\n",
              "            title=\"Convert this dataframe to an interactive table.\"\n",
              "            style=\"display:none;\">\n",
              "\n",
              "  <svg xmlns=\"http://www.w3.org/2000/svg\" height=\"24px\" viewBox=\"0 -960 960 960\">\n",
              "    <path d=\"M120-120v-720h720v720H120Zm60-500h600v-160H180v160Zm220 220h160v-160H400v160Zm0 220h160v-160H400v160ZM180-400h160v-160H180v160Zm440 0h160v-160H620v160ZM180-180h160v-160H180v160Zm440 0h160v-160H620v160Z\"/>\n",
              "  </svg>\n",
              "    </button>\n",
              "\n",
              "  <style>\n",
              "    .colab-df-container {\n",
              "      display:flex;\n",
              "      gap: 12px;\n",
              "    }\n",
              "\n",
              "    .colab-df-convert {\n",
              "      background-color: #E8F0FE;\n",
              "      border: none;\n",
              "      border-radius: 50%;\n",
              "      cursor: pointer;\n",
              "      display: none;\n",
              "      fill: #1967D2;\n",
              "      height: 32px;\n",
              "      padding: 0 0 0 0;\n",
              "      width: 32px;\n",
              "    }\n",
              "\n",
              "    .colab-df-convert:hover {\n",
              "      background-color: #E2EBFA;\n",
              "      box-shadow: 0px 1px 2px rgba(60, 64, 67, 0.3), 0px 1px 3px 1px rgba(60, 64, 67, 0.15);\n",
              "      fill: #174EA6;\n",
              "    }\n",
              "\n",
              "    .colab-df-buttons div {\n",
              "      margin-bottom: 4px;\n",
              "    }\n",
              "\n",
              "    [theme=dark] .colab-df-convert {\n",
              "      background-color: #3B4455;\n",
              "      fill: #D2E3FC;\n",
              "    }\n",
              "\n",
              "    [theme=dark] .colab-df-convert:hover {\n",
              "      background-color: #434B5C;\n",
              "      box-shadow: 0px 1px 3px 1px rgba(0, 0, 0, 0.15);\n",
              "      filter: drop-shadow(0px 1px 2px rgba(0, 0, 0, 0.3));\n",
              "      fill: #FFFFFF;\n",
              "    }\n",
              "  </style>\n",
              "\n",
              "    <script>\n",
              "      const buttonEl =\n",
              "        document.querySelector('#df-b2c967b8-5461-4564-a041-9dce14f7ba9b button.colab-df-convert');\n",
              "      buttonEl.style.display =\n",
              "        google.colab.kernel.accessAllowed ? 'block' : 'none';\n",
              "\n",
              "      async function convertToInteractive(key) {\n",
              "        const element = document.querySelector('#df-b2c967b8-5461-4564-a041-9dce14f7ba9b');\n",
              "        const dataTable =\n",
              "          await google.colab.kernel.invokeFunction('convertToInteractive',\n",
              "                                                    [key], {});\n",
              "        if (!dataTable) return;\n",
              "\n",
              "        const docLinkHtml = 'Like what you see? Visit the ' +\n",
              "          '<a target=\"_blank\" href=https://colab.research.google.com/notebooks/data_table.ipynb>data table notebook</a>'\n",
              "          + ' to learn more about interactive tables.';\n",
              "        element.innerHTML = '';\n",
              "        dataTable['output_type'] = 'display_data';\n",
              "        await google.colab.output.renderOutput(dataTable, element);\n",
              "        const docLink = document.createElement('div');\n",
              "        docLink.innerHTML = docLinkHtml;\n",
              "        element.appendChild(docLink);\n",
              "      }\n",
              "    </script>\n",
              "  </div>\n",
              "\n",
              "\n",
              "<div id=\"df-7e257ca8-ad69-4053-aafb-098d3b487d8f\">\n",
              "  <button class=\"colab-df-quickchart\" onclick=\"quickchart('df-7e257ca8-ad69-4053-aafb-098d3b487d8f')\"\n",
              "            title=\"Suggest charts\"\n",
              "            style=\"display:none;\">\n",
              "\n",
              "<svg xmlns=\"http://www.w3.org/2000/svg\" height=\"24px\"viewBox=\"0 0 24 24\"\n",
              "     width=\"24px\">\n",
              "    <g>\n",
              "        <path d=\"M19 3H5c-1.1 0-2 .9-2 2v14c0 1.1.9 2 2 2h14c1.1 0 2-.9 2-2V5c0-1.1-.9-2-2-2zM9 17H7v-7h2v7zm4 0h-2V7h2v10zm4 0h-2v-4h2v4z\"/>\n",
              "    </g>\n",
              "</svg>\n",
              "  </button>\n",
              "\n",
              "<style>\n",
              "  .colab-df-quickchart {\n",
              "      --bg-color: #E8F0FE;\n",
              "      --fill-color: #1967D2;\n",
              "      --hover-bg-color: #E2EBFA;\n",
              "      --hover-fill-color: #174EA6;\n",
              "      --disabled-fill-color: #AAA;\n",
              "      --disabled-bg-color: #DDD;\n",
              "  }\n",
              "\n",
              "  [theme=dark] .colab-df-quickchart {\n",
              "      --bg-color: #3B4455;\n",
              "      --fill-color: #D2E3FC;\n",
              "      --hover-bg-color: #434B5C;\n",
              "      --hover-fill-color: #FFFFFF;\n",
              "      --disabled-bg-color: #3B4455;\n",
              "      --disabled-fill-color: #666;\n",
              "  }\n",
              "\n",
              "  .colab-df-quickchart {\n",
              "    background-color: var(--bg-color);\n",
              "    border: none;\n",
              "    border-radius: 50%;\n",
              "    cursor: pointer;\n",
              "    display: none;\n",
              "    fill: var(--fill-color);\n",
              "    height: 32px;\n",
              "    padding: 0;\n",
              "    width: 32px;\n",
              "  }\n",
              "\n",
              "  .colab-df-quickchart:hover {\n",
              "    background-color: var(--hover-bg-color);\n",
              "    box-shadow: 0 1px 2px rgba(60, 64, 67, 0.3), 0 1px 3px 1px rgba(60, 64, 67, 0.15);\n",
              "    fill: var(--button-hover-fill-color);\n",
              "  }\n",
              "\n",
              "  .colab-df-quickchart-complete:disabled,\n",
              "  .colab-df-quickchart-complete:disabled:hover {\n",
              "    background-color: var(--disabled-bg-color);\n",
              "    fill: var(--disabled-fill-color);\n",
              "    box-shadow: none;\n",
              "  }\n",
              "\n",
              "  .colab-df-spinner {\n",
              "    border: 2px solid var(--fill-color);\n",
              "    border-color: transparent;\n",
              "    border-bottom-color: var(--fill-color);\n",
              "    animation:\n",
              "      spin 1s steps(1) infinite;\n",
              "  }\n",
              "\n",
              "  @keyframes spin {\n",
              "    0% {\n",
              "      border-color: transparent;\n",
              "      border-bottom-color: var(--fill-color);\n",
              "      border-left-color: var(--fill-color);\n",
              "    }\n",
              "    20% {\n",
              "      border-color: transparent;\n",
              "      border-left-color: var(--fill-color);\n",
              "      border-top-color: var(--fill-color);\n",
              "    }\n",
              "    30% {\n",
              "      border-color: transparent;\n",
              "      border-left-color: var(--fill-color);\n",
              "      border-top-color: var(--fill-color);\n",
              "      border-right-color: var(--fill-color);\n",
              "    }\n",
              "    40% {\n",
              "      border-color: transparent;\n",
              "      border-right-color: var(--fill-color);\n",
              "      border-top-color: var(--fill-color);\n",
              "    }\n",
              "    60% {\n",
              "      border-color: transparent;\n",
              "      border-right-color: var(--fill-color);\n",
              "    }\n",
              "    80% {\n",
              "      border-color: transparent;\n",
              "      border-right-color: var(--fill-color);\n",
              "      border-bottom-color: var(--fill-color);\n",
              "    }\n",
              "    90% {\n",
              "      border-color: transparent;\n",
              "      border-bottom-color: var(--fill-color);\n",
              "    }\n",
              "  }\n",
              "</style>\n",
              "\n",
              "  <script>\n",
              "    async function quickchart(key) {\n",
              "      const quickchartButtonEl =\n",
              "        document.querySelector('#' + key + ' button');\n",
              "      quickchartButtonEl.disabled = true;  // To prevent multiple clicks.\n",
              "      quickchartButtonEl.classList.add('colab-df-spinner');\n",
              "      try {\n",
              "        const charts = await google.colab.kernel.invokeFunction(\n",
              "            'suggestCharts', [key], {});\n",
              "      } catch (error) {\n",
              "        console.error('Error during call to suggestCharts:', error);\n",
              "      }\n",
              "      quickchartButtonEl.classList.remove('colab-df-spinner');\n",
              "      quickchartButtonEl.classList.add('colab-df-quickchart-complete');\n",
              "    }\n",
              "    (() => {\n",
              "      let quickchartButtonEl =\n",
              "        document.querySelector('#df-7e257ca8-ad69-4053-aafb-098d3b487d8f button');\n",
              "      quickchartButtonEl.style.display =\n",
              "        google.colab.kernel.accessAllowed ? 'block' : 'none';\n",
              "    })();\n",
              "  </script>\n",
              "</div>\n",
              "\n",
              "    </div>\n",
              "  </div>\n"
            ],
            "application/vnd.google.colaboratory.intrinsic+json": {
              "type": "dataframe",
              "variable_name": "movies",
              "summary": "{\n  \"name\": \"movies\",\n  \"rows\": 979,\n  \"fields\": [\n    {\n      \"column\": \"star_rating\",\n      \"properties\": {\n        \"dtype\": \"number\",\n        \"std\": 0.336069326147959,\n        \"min\": 7.4,\n        \"max\": 9.3,\n        \"num_unique_values\": 20,\n        \"samples\": [\n          9.3,\n          7.6,\n          7.8\n        ],\n        \"semantic_type\": \"\",\n        \"description\": \"\"\n      }\n    },\n    {\n      \"column\": \"title\",\n      \"properties\": {\n        \"dtype\": \"string\",\n        \"num_unique_values\": 975,\n        \"samples\": [\n          \"No Country for Old Men\",\n          \"Of Mice and Men\",\n          \"Persona\"\n        ],\n        \"semantic_type\": \"\",\n        \"description\": \"\"\n      }\n    },\n    {\n      \"column\": \"content_rating\",\n      \"properties\": {\n        \"dtype\": \"category\",\n        \"num_unique_values\": 12,\n        \"samples\": [\n          \"GP\",\n          \"TV-MA\",\n          \"R\"\n        ],\n        \"semantic_type\": \"\",\n        \"description\": \"\"\n      }\n    },\n    {\n      \"column\": \"genre\",\n      \"properties\": {\n        \"dtype\": \"category\",\n        \"num_unique_values\": 16,\n        \"samples\": [\n          \"Crime\",\n          \"Action\",\n          \"Biography\"\n        ],\n        \"semantic_type\": \"\",\n        \"description\": \"\"\n      }\n    },\n    {\n      \"column\": \"duration\",\n      \"properties\": {\n        \"dtype\": \"number\",\n        \"std\": 26,\n        \"min\": 64,\n        \"max\": 242,\n        \"num_unique_values\": 133,\n        \"samples\": [\n          149,\n          91,\n          119\n        ],\n        \"semantic_type\": \"\",\n        \"description\": \"\"\n      }\n    },\n    {\n      \"column\": \"actors_list\",\n      \"properties\": {\n        \"dtype\": \"string\",\n        \"num_unique_values\": 969,\n        \"samples\": [\n          \"[u'Robert De Niro', u'Jerry Lewis', u'Diahnne Abbott']\",\n          \"[u'Wagner Moura', u'Andr\\\\xe9 Ramiro', u'Caio Junqueira']\",\n          \"[u'Ken Watanabe', u'Kazunari Ninomiya', u'Tsuyoshi Ihara']\"\n        ],\n        \"semantic_type\": \"\",\n        \"description\": \"\"\n      }\n    }\n  ]\n}"
            }
          },
          "metadata": {},
          "execution_count": 2
        }
      ],
      "source": [
        "movies = pd.read_csv('imdb.txt')\n",
        "movies.head()"
      ]
    },
    {
      "cell_type": "markdown",
      "metadata": {
        "id": "e1q7BmSTkZDQ"
      },
      "source": [
        "## What does the dataframe look like?\n",
        "\n",
        "`shape` gives the number of rows and columns."
      ]
    },
    {
      "cell_type": "code",
      "execution_count": 3,
      "metadata": {
        "id": "OmfeReO5kZDQ",
        "colab": {
          "base_uri": "https://localhost:8080/",
          "height": 289
        },
        "outputId": "6634cfc9-c3a8-4c81-bb03-c993e4345549"
      },
      "outputs": [
        {
          "output_type": "stream",
          "name": "stdout",
          "text": [
            "(979, 6)\n"
          ]
        },
        {
          "output_type": "execute_result",
          "data": {
            "text/plain": [
              "star_rating       float64\n",
              "title              object\n",
              "content_rating     object\n",
              "genre              object\n",
              "duration            int64\n",
              "actors_list        object\n",
              "dtype: object"
            ],
            "text/html": [
              "<div>\n",
              "<style scoped>\n",
              "    .dataframe tbody tr th:only-of-type {\n",
              "        vertical-align: middle;\n",
              "    }\n",
              "\n",
              "    .dataframe tbody tr th {\n",
              "        vertical-align: top;\n",
              "    }\n",
              "\n",
              "    .dataframe thead th {\n",
              "        text-align: right;\n",
              "    }\n",
              "</style>\n",
              "<table border=\"1\" class=\"dataframe\">\n",
              "  <thead>\n",
              "    <tr style=\"text-align: right;\">\n",
              "      <th></th>\n",
              "      <th>0</th>\n",
              "    </tr>\n",
              "  </thead>\n",
              "  <tbody>\n",
              "    <tr>\n",
              "      <th>star_rating</th>\n",
              "      <td>float64</td>\n",
              "    </tr>\n",
              "    <tr>\n",
              "      <th>title</th>\n",
              "      <td>object</td>\n",
              "    </tr>\n",
              "    <tr>\n",
              "      <th>content_rating</th>\n",
              "      <td>object</td>\n",
              "    </tr>\n",
              "    <tr>\n",
              "      <th>genre</th>\n",
              "      <td>object</td>\n",
              "    </tr>\n",
              "    <tr>\n",
              "      <th>duration</th>\n",
              "      <td>int64</td>\n",
              "    </tr>\n",
              "    <tr>\n",
              "      <th>actors_list</th>\n",
              "      <td>object</td>\n",
              "    </tr>\n",
              "  </tbody>\n",
              "</table>\n",
              "</div><br><label><b>dtype:</b> object</label>"
            ]
          },
          "metadata": {},
          "execution_count": 3
        }
      ],
      "source": [
        "# check the number of rows and columns\n",
        "print(movies.shape)\n",
        "# check the data type of each column\n",
        "movies.dtypes"
      ]
    },
    {
      "cell_type": "markdown",
      "metadata": {
        "id": "mplVSAPtkZDR"
      },
      "source": [
        "Now we can use the `mean()` function on any of the numerical columns.  Calculate and print out the average `duration` and `star_rating`. I've provided some sample code."
      ]
    },
    {
      "cell_type": "code",
      "execution_count": 6,
      "metadata": {
        "id": "bzA5z70hkZDR",
        "colab": {
          "base_uri": "https://localhost:8080/"
        },
        "outputId": "a3ec994c-f25c-4116-da6e-f096d602485d"
      },
      "outputs": [
        {
          "output_type": "stream",
          "name": "stdout",
          "text": [
            "120.97957099080695\n"
          ]
        }
      ],
      "source": [
        "avg_duration = movies['duration'].mean()\n",
        "print(avg_duration)\n"
      ]
    },
    {
      "cell_type": "markdown",
      "metadata": {
        "id": "L1V9boC-kZDS"
      },
      "source": [
        "We can select parts of the data in different ways. For example, we can look only at movies with a longer-than-average duration.\n",
        "\n",
        "Notice that we use the test  `movies['duration'] > avg_duration`  to select just the long ones."
      ]
    },
    {
      "cell_type": "code",
      "execution_count": 7,
      "metadata": {
        "id": "LAjvAa2JkZDS",
        "outputId": "8414360b-b3b8-4921-e3a0-6f9dc6c947cb",
        "colab": {
          "base_uri": "https://localhost:8080/"
        }
      },
      "outputs": [
        {
          "output_type": "execute_result",
          "data": {
            "text/plain": [
              "7.953669724770642"
            ]
          },
          "metadata": {},
          "execution_count": 7
        }
      ],
      "source": [
        "long_movies = movies[movies['duration'] > avg_duration]\n",
        "\n",
        "#how do these movies rate?\n",
        "long_movies['star_rating'].mean()\n"
      ]
    },
    {
      "cell_type": "markdown",
      "metadata": {
        "id": "xNL3yu5XkZDT"
      },
      "source": [
        "## TASK\n",
        "\n",
        "Compare the mean rating of longer-than-average movies to the mean rating of shorter-than-average movies. In a comment, discuss whether longer movies get higher ratings."
      ]
    },
    {
      "cell_type": "code",
      "execution_count": 9,
      "metadata": {
        "id": "12fWzUhUkZDU",
        "colab": {
          "base_uri": "https://localhost:8080/"
        },
        "outputId": "e9a4a237-6ec8-42f1-919d-f57f861ccca2"
      },
      "outputs": [
        {
          "output_type": "execute_result",
          "data": {
            "text/plain": [
              "7.838489871086555"
            ]
          },
          "metadata": {},
          "execution_count": 9
        }
      ],
      "source": [
        "short_movies = movies[movies['duration'] < avg_duration]\n",
        "\n",
        "short_movies['star_rating'].mean()\n",
        "\n",
        "#longer movies have a higher average rating"
      ]
    },
    {
      "cell_type": "markdown",
      "metadata": {
        "id": "iiXQS0KnkZDU"
      },
      "source": [
        "## TASK\n",
        "\n",
        "Use regex to select movies that are sequels.  For simplicity, we will just look at movies with `Part` and/or `II` and/or `III` in the title. I'll get you started.\n",
        "\n",
        "In the last line, I show how to capture the ratings of just the movies that are sequels. Add these ratings to a list and call it `sequel_ratings`."
      ]
    },
    {
      "cell_type": "markdown",
      "source": [
        "\n",
        "title_series = movies['title']\n",
        "for title in title_series:\n",
        "    if re.search('Part II+|II|Part 2'title):   #this regex isnt' quite right. Fix it!\n",
        "        print(title)\n",
        "        idx = movies[movies['title']==title].index[0]  #index of the sequel\n",
        "        print(\"rating is\", movies['star_rating'][idx])  #add each rating to a list"
      ],
      "metadata": {
        "id": "oue4UBOWkZDV"
      }
    },
    {
      "cell_type": "markdown",
      "metadata": {
        "id": "oLjDew1BkZDV"
      },
      "source": [
        "Clearly, there is a problem here. The movie `The Party` should not be included. Modify the regex search to exclude names like Party, but keep anything with Part. Also grab anything with a II or III.\n",
        "\n",
        "Once you see only sequels, and you are getting `Evil Dead II` and other titles with II/III in it, you are ready to calculate the average rating.  Using your list `sequel_ratings`, compute the average rating.  How do the ratings compare to the average rating for the entire dataset?  "
      ]
    },
    {
      "cell_type": "markdown",
      "metadata": {
        "id": "6KoEcdDSkZDV"
      },
      "source": [
        "## TASK - if you have time\n",
        "\n",
        "Experiment with improving the regex selection to include other ways to indicate that a movie is a sequel. Can you collect other sequels without mistakenly capturing movies that are not sequels?\n"
      ]
    },
    {
      "cell_type": "code",
      "execution_count": 73,
      "metadata": {
        "id": "kWltwW_HkZDW",
        "colab": {
          "base_uri": "https://localhost:8080/"
        },
        "outputId": "6962ca1e-3623-45ed-f63d-eb046196a025"
      },
      "outputs": [
        {
          "output_type": "stream",
          "name": "stdout",
          "text": [
            "The Godfather: Part II\n",
            "rating is 9.1\n",
            "Terminator 2: Judgment Day\n",
            "rating is 8.5\n",
            "Harry Potter and the Deathly Hallows: Part 2\n",
            "rating is 8.1\n",
            "The Raid 2\n",
            "rating is 8.1\n",
            "Kill Bill: Vol. 2\n",
            "rating is 8.0\n",
            "How to Train Your Dragon 2\n",
            "rating is 8.0\n",
            "Evil Dead II\n",
            "rating is 7.8\n",
            "Back to the Future Part II\n",
            "rating is 7.8\n",
            "Star Trek II: The Wrath of Khan\n",
            "rating is 7.7\n",
            "Star Wars: Episode III - Revenge of the Sith\n",
            "rating is 7.7\n",
            "The Godfather: Part III\n",
            "rating is 7.6\n",
            "Mad Max 2: The Road Warrior\n",
            "rating is 7.6\n",
            "Despicable Me 2\n",
            "rating is 7.5\n",
            "Menace II Society\n",
            "rating is 7.5\n",
            "Clerks II\n",
            "rating is 7.5\n",
            "Back to the Future Part III\n",
            "rating is 7.4\n"
          ]
        }
      ],
      "source": [
        "for title in title_series:\n",
        "    if re.search('Part II+|II|Part 2|2:|Vol. 2|The Raid 2|How to Train Your Dragon 2|Despicable Me 2',title):   # SAMPLE CODE - please improve\n",
        "        print(title)\n",
        "        idx = movies[movies['title']==title].index[0]  #index of the sequel\n",
        "        print(\"rating is\", movies['star_rating'][idx])  #add each rating to a list"
      ]
    }
  ],
  "metadata": {
    "kernelspec": {
      "display_name": "Python 3",
      "language": "python",
      "name": "python3"
    },
    "language_info": {
      "codemirror_mode": {
        "name": "ipython",
        "version": 3
      },
      "file_extension": ".py",
      "mimetype": "text/x-python",
      "name": "python",
      "nbconvert_exporter": "python",
      "pygments_lexer": "ipython3",
      "version": "3.10.4"
    },
    "orig_nbformat": 4,
    "colab": {
      "provenance": [],
      "include_colab_link": true
    }
  },
  "nbformat": 4,
  "nbformat_minor": 0
}